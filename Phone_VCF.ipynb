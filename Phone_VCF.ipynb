{
  "nbformat": 4,
  "nbformat_minor": 0,
  "metadata": {
    "colab": {
      "provenance": []
    },
    "kernelspec": {
      "name": "python3",
      "display_name": "Python 3"
    },
    "language_info": {
      "name": "python"
    }
  },
  "cells": [
    {
      "cell_type": "code",
      "execution_count": null,
      "metadata": {
        "colab": {
          "base_uri": "https://localhost:8080/"
        },
        "id": "CM35yK63MkE7",
        "outputId": "10a104fd-5707-4c41-d960-f775f484c7a4"
      },
      "outputs": [
        {
          "output_type": "stream",
          "name": "stdout",
          "text": [
            "VCF file generated: phone.vcf\n"
          ]
        }
      ],
      "source": [
        "# Python script to generate .vcf file from phone numbers\n",
        "\n",
        "def generate_vcf(input_file, output_file):\n",
        "    with open(input_file, 'r') as infile, open(output_file, 'w') as outfile:\n",
        "        contact_id = 1\n",
        "        for line in infile:\n",
        "            phone_number = line.strip()\n",
        "            if phone_number:\n",
        "                vcf_entry = f\"BEGIN:VCARD\\nVERSION:3.0\\nFN:Contact {contact_id}\\nTEL:{phone_number}\\nEND:VCARD\\n\"\n",
        "                outfile.write(vcf_entry)\n",
        "                contact_id += 1\n",
        "        print(f\"VCF file generated: {output_file}\")\n",
        "\n",
        "# Specify the input file (contacts.txt) and output file (contacts.vcf)\n",
        "generate_vcf('/content/phone.txt', 'phone.vcf')\n"
      ]
    }
  ]
}